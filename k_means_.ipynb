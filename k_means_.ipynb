{
  "nbformat": 4,
  "nbformat_minor": 0,
  "metadata": {
    "colab": {
      "provenance": []
    },
    "kernelspec": {
      "name": "python3",
      "display_name": "Python 3"
    },
    "language_info": {
      "name": "python"
    }
  },
  "cells": [
    {
      "cell_type": "code",
      "execution_count": null,
      "metadata": {
        "id": "z0uVvNR6bdgu"
      },
      "outputs": [],
      "source": [
        "import numpy as np\n",
        "import scipy.linalg\n",
        "import matplotlib.pyplot as plt\n",
        "from ipywidgets import interact, interactive, fixed, interact_manual, IntSlider"
      ]
    },
    {
      "cell_type": "code",
      "source": [
        "def assign_clusters(data, means):\n",
        "  n, d = data.shape\n",
        "  k = means.shape[0]\n",
        "  assert d == means.shape[1]\n",
        "  out = np.zeros(n)\n",
        "  for i, x in enumerate(data):\n",
        "    # ...\n",
        "  return out\n",
        "\n",
        "def update_means(data, clusters):\n",
        "  n, d = data.shape\n",
        "  assert len(clusters) == n\n",
        "  k = len(set(clusters))\n",
        "  cluster_means = []\n",
        "  for i in range(k):\n",
        "    # ...\n",
        "    cluster_means.append(cluster_mean)\n",
        "  return np.array(cluster_means)\n",
        "\n",
        "def cost(data, clusters, means):\n",
        "  out = 0\n",
        "  n, d = data.shape\n",
        "  k = means.shape[0]\n",
        "  assert means.shape[1] == d\n",
        "  assert len(clusters) == n\n",
        "  for i in range(k):\n",
        "    out += np.linalg.norm(data[clusters == i] - means[i])\n",
        "  return out\n",
        "\n",
        "def k_means_cluster(data, k):\n",
        "  n, d = data.shape\n",
        "  means = data[np.random.choice(n, k, replace=False)]\n",
        "  assignments = assign_clusters(data, means)\n",
        "  while True:\n",
        "    yield means, assignments\n",
        "    means = update_means(data, assignments)\n",
        "    new_assignments = assign_clusters(data, means)\n",
        "    if np.all(assignments == new_assignments):\n",
        "      yield means, assignements\n",
        "      print(\"Final cost = {}\".format(cost(data, assignments, means)))\n",
        "      break\n",
        "    assignments = new_assignments"
      ],
      "metadata": {
        "id": "x-LpDJv4d9YR"
      },
      "execution_count": null,
      "outputs": []
    },
    {
      "cell_type": "code",
      "source": [
        "def final_k_means_cluster(data, k):\n",
        "  out = list(k_means_cluster(data, k))\n",
        "  return out[-1]\n",
        "\n",
        "def plot_clustering(data, means, assignments, title=\"Predicted Clusters\"):\n",
        "  k = len(means)\n",
        "  for j in range(k):\n",
        "    plt.scatter(*data[assignments == j].T)\n",
        "  plt.scatter(*means.T, marker=\"x\", s=240, c=\"black\")\n",
        "  plt.title(title)\n",
        "  plt.show()\n",
        "\n",
        "def interact_clustering(data, logger):\n",
        "  history = list(logger)\n",
        "  k = history[0][0].shape[0]\n",
        "\n",
        "  def plotter(i):\n",
        "    plot_clustering(data, *history[i])\n",
        "\n",
        "  interact(plotter, i=IntSlider(min=0, max=len(history)-1, continuous_update=False))\n",
        "\n",
        "def demo(classes, history=False):\n",
        "  for c in classes:\n",
        "    plt.scatter(*c.T)\n",
        "  plt.title(\"Ground Truth Clusters\")\n",
        "  plt.show()\n",
        "\n",
        "  points = np.vstack(classes)\n",
        "\n",
        "  if history:\n",
        "    interact_clustering(points, k_means_cluster(points, len(classes)))\n",
        "  else:\n",
        "    means, assignments = final_k_means_cluster(points, len(classes))\n",
        "    plot_clustering(points, means, assignments)\n"
      ],
      "metadata": {
        "id": "9wZOsZEsgTKO"
      },
      "execution_count": null,
      "outputs": []
    },
    {
      "cell_type": "code",
      "source": [
        "def gen_gaussian_points(n, mean, sigma):\n",
        "  return np.random.normal(mean, sigma, [n, 2])\n",
        "\n",
        "N = 100\n",
        "\n",
        "class_a = gen_gaussian_points(N, [-1, 0], [1, 1])\n",
        "class_b = gen_gaussian_points(N, [1, 0], [1, 1])\n",
        "\n",
        "points = np.vstack([class_a, class_b])\n",
        "\n",
        "plt.scatter(*class_a.T)\n",
        "plt.scatter(*class_b.T)\n"
      ],
      "metadata": {
        "id": "EcsUteg-ieV8"
      },
      "execution_count": null,
      "outputs": []
    },
    {
      "cell_type": "code",
      "source": [
        "interact_clustering(points, k_means_cluster(points, 3))"
      ],
      "metadata": {
        "id": "ggY3rMrCjACh"
      },
      "execution_count": null,
      "outputs": []
    },
    {
      "cell_type": "code",
      "source": [
        "class_a = gen_gaussian_points(N, [-3, 0], [1, 1])\n",
        "class_b = gen_gaussian_points(N, [3, 0], [1, 1])\n",
        "class_c = gen_gaussian_points(N, [0, 3], [1, 1])\n",
        "class_d = gen_gaussian_points(10, [0, 15], [1, 1])\n",
        "\n",
        "demo([class_a, class_b, class_c, class_d], history=False)"
      ],
      "metadata": {
        "id": "BoSlUewKjDL0"
      },
      "execution_count": null,
      "outputs": []
    },
    {
      "cell_type": "code",
      "source": [
        "class_a = gen_gaussian_points(N, [-2, 0], [1, 1])\n",
        "class_b = gen_gaussian_points(N, [0, 0], [1, 1])\n",
        "class_c = gen_gaussian_points(N, [2, 0], [1, 1])\n",
        "\n",
        "points = np.vstack([class_a, class_b, class_c])\n",
        "\n",
        "gt_means = [np.mean(cluster, axis = 0) for cluster in [class_a, class_b, class_c]]\n",
        "gt_means = np.stack(gt_means)\n",
        "gt_assignments = np.array([0] * N + [1] * N + [2] * N)\n",
        "plot_clustering(points, gt_means, gt_assignments, title=\"Ground Truth Clusters\")\n",
        "\n",
        "means, assignments = final_k_means_cluster(points, 3)\n",
        "plot_clustering(points, means, assignments, \"Predicted Clusters\")\n",
        "\n",
        "print(\"Ground Truth Means\", gt_means)\n",
        "print(\"Predicted Means\", means)"
      ],
      "metadata": {
        "id": "21NIFdUyjWOB"
      },
      "execution_count": null,
      "outputs": []
    },
    {
      "cell_type": "code",
      "source": [
        "RESCALE_DATA = False\n",
        "\n",
        "class_a = gen_gaussian_points(N, [-3, 0], [1, 10])\n",
        "class_b = gen_gaussian_points(N, [3, 0], [1, 10])\n",
        "demo([class_a, class_b])"
      ],
      "metadata": {
        "id": "djdVg-BmkPE6"
      },
      "execution_count": null,
      "outputs": []
    }
  ]
}